{
 "metadata": {
  "language_info": {
   "codemirror_mode": {
    "name": "ipython",
    "version": 3
   },
   "file_extension": ".py",
   "mimetype": "text/x-python",
   "name": "python",
   "nbconvert_exporter": "python",
   "pygments_lexer": "ipython3",
   "version": "3.6.9-final"
  },
  "orig_nbformat": 2,
  "kernelspec": {
   "name": "python3",
   "display_name": "Python 3.6.9 64-bit ('.venv': venv)",
   "metadata": {
    "interpreter": {
     "hash": "df7ede5804e971336835e8376f299eea654d9d91f48991d81f24d0b824d9dde6"
    }
   }
  }
 },
 "nbformat": 4,
 "nbformat_minor": 2,
 "cells": [
  {
   "source": [
    "# Create Interactive Point Cloud SVG"
   ],
   "cell_type": "markdown",
   "metadata": {}
  },
  {
   "source": [
    "Set all relevant paths"
   ],
   "cell_type": "markdown",
   "metadata": {}
  },
  {
   "cell_type": "code",
   "execution_count": 43,
   "metadata": {},
   "outputs": [],
   "source": [
    "from pathlib import Path\n",
    "\n",
    "svg_template = Path(\"svg/points.svg.j2\")\n",
    "svg_output   = Path(\"svg/points.svg\")\n",
    "svg_pane_width  = 512\n",
    "svg_pane_height = 512\n",
    "\n",
    "points_csv = Path(\"svg/points.csv\")"
   ]
  },
  {
   "source": [
    "Load the points"
   ],
   "cell_type": "markdown",
   "metadata": {}
  },
  {
   "cell_type": "code",
   "execution_count": 44,
   "metadata": {},
   "outputs": [],
   "source": [
    "import numpy as np\n",
    "\n",
    "points = np.loadtxt(points_csv, skiprows=1, delimiter=\",\")\n",
    "\n",
    "coordinates = points[:, 0:2].astype(np.int32).tolist()\n",
    "features = points[:, 2:].tolist()"
   ]
  },
  {
   "cell_type": "code",
   "execution_count": 48,
   "metadata": {},
   "outputs": [],
   "source": [
    "from jinja2 import Environment, FileSystemLoader\n",
    "\n",
    "env = Environment(loader=FileSystemLoader(svg_template.parent))\n",
    "svg = env.get_template(svg_template.name).render(coordinates=coordinates, features=features, width=svg_pane_width, height=svg_pane_height)\n",
    "\n",
    "with open(svg_output, \"w\") as svg_out:\n",
    "    svg_out.write(svg)"
   ]
  }
 ]
}