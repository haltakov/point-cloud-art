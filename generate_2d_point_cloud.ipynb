{
 "metadata": {
  "language_info": {
   "codemirror_mode": {
    "name": "ipython",
    "version": 3
   },
   "file_extension": ".py",
   "mimetype": "text/x-python",
   "name": "python",
   "nbconvert_exporter": "python",
   "pygments_lexer": "ipython3",
   "version": "3.9.0"
  },
  "orig_nbformat": 2,
  "kernelspec": {
   "name": "python3",
   "display_name": "Python 3.9.0 64-bit ('.venv': venv)"
  },
  "interpreter": {
   "hash": "9f5cddd5e8f1d5b85d7225b7a63bd46645c1be63d68e8f988cc4b4ff11402438"
  }
 },
 "nbformat": 4,
 "nbformat_minor": 2,
 "cells": [
  {
   "cell_type": "markdown",
   "source": [
    "# Generate Interactive 2D Point Cloud\n",
    "\n",
    "Use this notebook to generate an interactive 2D point clouds. You need to provide a folder with a couple of PNG files containing white points on black background. The script will take these images and create random codes that will allow you to show each of the images when entering it.\n",
    "\n",
    "Check out an example containing 6 hidden images from Brazil here: [https://haltakov.net/point-cloud-brazil/](https://haltakov.net/point-cloud-brazil/). Use the following codes to see the first 3 images, but the rest you will have to find yourself :)\n",
    "- 8198399457\n",
    "- 6674004952\n",
    "- 0856561979"
   ],
   "metadata": {}
  },
  {
   "cell_type": "markdown",
   "source": [
    "## Project Inputs\n",
    "\n",
    "Set these variables for your specific project. If you are not sure about something leave it to the default settings."
   ],
   "metadata": {}
  },
  {
   "cell_type": "code",
   "execution_count": null,
   "source": [
    "\n",
    "points_images_folder = \"images\"         # Folder containing the PNG images to be encoded in the point cloud\n",
    "project_name = \"Point Cloud Brazil\"     # Project name\n",
    "output_folder = \"point_cloud\"           # Folder where the point cloud will be saved\n",
    "single_file = False                     # Set to true if everything should be compiled in a signle file\n",
    "\n",
    "points_to_add = 10000                   # Number of points to try to add to the point cloud\n",
    "min_distance_between_points = 5         # Minimum distance (in pixels) of a new point to an existing one\n",
    "code_length = 10                        # Secret code length"
   ],
   "outputs": [],
   "metadata": {}
  },
  {
   "cell_type": "markdown",
   "source": [
    "# Setup\n",
    "\n",
    "This section sets up the environment."
   ],
   "metadata": {}
  },
  {
   "cell_type": "code",
   "execution_count": null,
   "source": [
    "import os\n",
    "import cv2\n",
    "import random\n",
    "import jinja2\n",
    "import numpy as np\n",
    "from PIL import Image\n",
    "from pathlib import Path\n",
    "from shutil import copyfile\n",
    "import plotly.graph_objects as go\n",
    "\n",
    "common_layout = go.Layout(\n",
    "    autosize=False,\n",
    "    width=500,\n",
    "    height=500,\n",
    "    margin=go.layout.Margin(l=10, r=10, b=10, t=10),\n",
    "    xaxis=dict(\n",
    "        visible=False,\n",
    "        showgrid=False\n",
    "    ),\n",
    "    yaxis=dict(\n",
    "        visible=False,\n",
    "        showgrid=False\n",
    "    )\n",
    ")"
   ],
   "outputs": [],
   "metadata": {}
  },
  {
   "cell_type": "markdown",
   "source": [
    "## Read and prepare the data\n",
    "\n",
    "Load all the images from the folder and process all white pixels as points."
   ],
   "metadata": {}
  },
  {
   "cell_type": "code",
   "execution_count": null,
   "source": [
    "# Find all the PNG images in the folder\n",
    "points_image_files = list(Path(points_images_folder).glob(\"*.png\"))\n",
    "print(\"Images found:\", len(points_image_files))\n",
    "\n",
    "points = []\n",
    "classes_count = len(points_image_files)\n",
    "\n",
    "for id, filename in enumerate(points_image_files):\n",
    "    print(\"Processing:\", str(filename))\n",
    "\n",
    "    # Load the points image\n",
    "    points_image = cv2.imread(str(filename), cv2.IMREAD_GRAYSCALE)\n",
    "    height, width = points_image.shape\n",
    "\n",
    "    # Find each non black pixel and store its coordinates as a point\n",
    "    for y in range(0, height):\n",
    "        for x in range(0, width):\n",
    "            if points_image[y][x] > 0:\n",
    "                points.append((x, height-y, id))\n",
    "\n",
    "points = np.array(points)\n",
    "\n",
    "print(\"Total points found:\", len(points))"
   ],
   "outputs": [],
   "metadata": {}
  },
  {
   "cell_type": "markdown",
   "source": [
    "## Generate random points in the point cloud\n",
    "\n",
    "This part fills up the point clound random points in order to \"hide\" the images."
   ],
   "metadata": {}
  },
  {
   "cell_type": "code",
   "execution_count": null,
   "source": [
    "# Compute the center of the image\n",
    "center = np.array([height/2, width/2])\n",
    "max_distance_center = width/2\n",
    "\n",
    "for i in range(0, points_to_add):\n",
    "    # Create a random point\n",
    "    p = np.random.randint(height, size=(1, 2))\n",
    "\n",
    "    # Find the distance to the closest existing point\n",
    "    dist = np.min(np.linalg.norm(points[:,0:2] - p, axis=1))\n",
    "\n",
    "    # Check if the point is not too close to another point and in the circle entered at the middle of the image\n",
    "    if dist >= min_distance_between_points and np.linalg.norm(center - p) < max_distance_center:\n",
    "        points = np.append(points, [(p[0][0], p[0][1], 255)], axis=0)"
   ],
   "outputs": [],
   "metadata": {}
  },
  {
   "cell_type": "markdown",
   "source": [
    "Display the point cloud using Plotly"
   ],
   "metadata": {}
  },
  {
   "cell_type": "code",
   "execution_count": null,
   "source": [
    "data = go.Scatter(x=points[:,0], y=points[:,1], mode='markers')\n",
    "go.Figure(data=data, layout=common_layout).show()"
   ],
   "outputs": [],
   "metadata": {}
  },
  {
   "cell_type": "markdown",
   "source": [
    "## Generate the features and the weights\n",
    "\n",
    "Perform MSE minimization to find the best features that can be classified with randomly generated weights"
   ],
   "metadata": {}
  },
  {
   "cell_type": "code",
   "execution_count": null,
   "source": [
    "# Important parameters for the optimization\n",
    "features_count = code_length\n",
    "learning_rate = 0.001\n",
    "iterations = 1000"
   ],
   "outputs": [],
   "metadata": {}
  },
  {
   "cell_type": "markdown",
   "source": [
    "Create random weights of the model that will be used to create the secret keys"
   ],
   "metadata": {}
  },
  {
   "cell_type": "code",
   "execution_count": null,
   "source": [
    "# Create random codes\n",
    "W = 2*np.random.rand(features_count, classes_count) - 1\n",
    "\n",
    "# Transform the weights to be mappable to an int between 0 and 9 (a signle digit)\n",
    "W = (10 + 10*W)/2\n",
    "W = (2*W.astype(np.int32) - 10) / 10.0\n",
    "\n",
    "# Show the weights as digits\n",
    "W_digits = (10+10*W.T)/2\n",
    "\n",
    "for weight in W_digits:\n",
    "    print(\"\".join(map(str, weight.astype(np.int8))))\n",
    "# W_strings = np.array2string(W_digits.T.astype(np.int8),  separator='')\n",
    "# W_digits"
   ],
   "outputs": [],
   "metadata": {}
  },
  {
   "cell_type": "markdown",
   "source": [
    "Optimize the features so that only the points of image corresponding to the provided code (weights) are mapped to 1 and all others are mapped to 0."
   ],
   "metadata": {}
  },
  {
   "cell_type": "code",
   "execution_count": null,
   "source": [
    "# Initialize the features at random\n",
    "points_count = points.shape[0]\n",
    "X = 2*np.random.rand(points_count, features_count)-1\n",
    "\n",
    "# One hot encoding of the labels\n",
    "labels = np.zeros((points_count, classes_count))\n",
    "for c in range(0, classes_count):\n",
    "    labels[:, c] = (points[:,2] == c)"
   ],
   "outputs": [],
   "metadata": {}
  },
  {
   "cell_type": "code",
   "execution_count": null,
   "source": [
    "# Do the optimization\n",
    "for i in range(0, iterations):\n",
    "    # Compute the predictions based on the current features and weights\n",
    "    predictions = X @ W\n",
    "\n",
    "    # Compute the loss (MSE)\n",
    "    diffs = labels - predictions\n",
    "    loss = np.sum(diffs ** 2) / (classes_count * points_count)\n",
    "\n",
    "    # Compute the gradients\n",
    "    grad_X = np.zeros((points_count, features_count))\n",
    "    for c in range(0, classes_count):\n",
    "        grad_X -= 2 * np.expand_dims(diffs[:,c], 1) * np.expand_dims(W[:,c], 0)\n",
    "\n",
    "    # Update the deatures\n",
    "    X -= learning_rate * grad_X\n",
    "\n",
    "    if i % 10 == 0:\n",
    "        print(f\"Iteration {i}\\tLoss = {loss}\")"
   ],
   "outputs": [],
   "metadata": {
    "tags": []
   }
  },
  {
   "cell_type": "markdown",
   "source": [
    "## Display Results\n",
    "\n",
    "In this part you can test displaying the point cloud with a specific code. You can play around changing the `class_to_show` to see the different images."
   ],
   "metadata": {}
  },
  {
   "cell_type": "code",
   "execution_count": null,
   "source": [
    "# Change this to the ID of the image you want to see\n",
    "class_to_show = 0\n",
    "\n",
    "# Compute the score for every point and take only the ones with a high score\n",
    "predicted = X @ W[:, class_to_show]\n",
    "predicted_points = points[predicted > 0.5, :]\n",
    "\n",
    "# Plot the selected points\n",
    "data = go.Scatter(x=predicted_points[:,0], y=predicted_points[:,1], mode='markers')\n",
    "go.Figure(data=data, layout=common_layout).show()"
   ],
   "outputs": [],
   "metadata": {}
  },
  {
   "cell_type": "markdown",
   "source": [
    "## Create the Point Cloud web page\n",
    "\n",
    "Write the points to a JS file"
   ],
   "metadata": {}
  },
  {
   "cell_type": "code",
   "execution_count": null,
   "source": [
    "# Create a data frame and shuffle the points\n",
    "data = np.concatenate((points[:, 0:2], X),1)\n",
    "np.random.shuffle(data)\n",
    "\n",
    "# Write the points to a JS file\n",
    "with open(Path(output_folder, \"p.js\"), \"w\") as pout:\n",
    "    pout.write(\"points = [\")\n",
    "    for point in data:\n",
    "        pout.write(f\"[{','.join(point.astype('str'))}], \\n\")\n",
    "    pout.write(\"];\")"
   ],
   "outputs": [],
   "metadata": {}
  },
  {
   "cell_type": "markdown",
   "source": [
    "Create the final point cloud page from the template"
   ],
   "metadata": {}
  },
  {
   "cell_type": "code",
   "execution_count": null,
   "source": [
    "# Copy the template files\n",
    "copyfile(\"template/index.html\", Path(output_folder, \"index.html\"))\n",
    "copyfile(\"template/points.js\", Path(output_folder, \"points.js\"))\n",
    "copyfile(\"template/points.css\", Path(output_folder, \"points.css\"))\n",
    "copyfile(\"template/plotly-basic.min.js\", Path(output_folder, \"plotly-basic.min.js\"))\n",
    "\n",
    "# Setup the jinja environment\n",
    "file_loader = jinja2.FileSystemLoader(output_folder)\n",
    "env = jinja2.Environment(loader=file_loader)\n",
    "\n",
    "# Renter the template\n",
    "template = env.get_template(\"index.html\")\n",
    "html = template.render(project_name=project_name, single_file=single_file)\n",
    "\n",
    "# Save the HTML file\n",
    "with open(Path(output_folder, \"index.html\"), \"w\") as out:\n",
    "    out.write(html)\n",
    "\n",
    "# If single file, delete the JS and CSS files\n",
    "if single_file:\n",
    "    Path(output_folder, \"p.js\").unlink()\n",
    "    Path(output_folder, \"points.js\").unlink()\n",
    "    Path(output_folder, \"points.css\").unlink()\n",
    "    Path(output_folder, \"plotly-basic.min.js\").unlink()"
   ],
   "outputs": [],
   "metadata": {}
  }
 ]
}